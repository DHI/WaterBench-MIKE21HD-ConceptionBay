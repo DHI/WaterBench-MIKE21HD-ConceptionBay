{
 "cells": [
  {
   "cell_type": "markdown",
   "metadata": {},
   "source": [
    "# Model validation altimetry\n",
    "\n",
    "Note: this notebook requires the model output data"
   ]
  },
  {
   "cell_type": "code",
   "execution_count": 1,
   "metadata": {},
   "outputs": [],
   "source": [
    "import matplotlib.pyplot as plt\n",
    "import modelskill as ms\n",
    "import helper as h"
   ]
  },
  {
   "cell_type": "code",
   "execution_count": 2,
   "metadata": {},
   "outputs": [],
   "source": [
    "obs_fldr = \"../observations/\" \n",
    "# mr_fldr = \"../output/\"    \n",
    "mr_fldr = \"../output_sample/\"     # use this if you have not downloaded the full data from Zenodo yet\n",
    "mr_fn = [f\"{mr_fldr}Area_2014_2018.dfsu\",f\"{mr_fldr}Area_2019_2022.dfsu\"]\n",
    "if \"sample\" in mr_fldr:\n",
    "    mr_fn = [mr_fn[0]]\n",
    "save_png = \"sample\" not in mr_fldr"
   ]
  },
  {
   "cell_type": "code",
   "execution_count": 3,
   "metadata": {},
   "outputs": [],
   "source": [
    "altlist = h.get_altimetry_obs(quality=None)"
   ]
  },
  {
   "cell_type": "code",
   "execution_count": 4,
   "metadata": {},
   "outputs": [],
   "source": [
    "ds = h.read_and_concatenate_ds(mr_fn,out_fname=f\"{mr_fldr}Area_all.dfsu\")"
   ]
  },
  {
   "cell_type": "code",
   "execution_count": 5,
   "metadata": {},
   "outputs": [
    {
     "data": {
      "text/plain": [
       "<DfsuModelResult>: MIKE21\n",
       "Time: 2017-02-01 00:00:00 - 2017-02-08 00:00:00\n",
       "Quantity: Surface Elevation [m]"
      ]
     },
     "execution_count": 5,
     "metadata": {},
     "output_type": "execute_result"
    }
   ],
   "source": [
    "mr = ms.DfsuModelResult(ds[0], name=\"MIKE21\")\n",
    "mr"
   ]
  },
  {
   "cell_type": "code",
   "execution_count": 6,
   "metadata": {},
   "outputs": [
    {
     "name": "stdout",
     "output_type": "stream",
     "text": [
      "Processing 3b...\n",
      "No time overlap!\n",
      "Processing c2...\n",
      "No time overlap!\n",
      "Processing j2...\n",
      "\"not all values found in index 'time'. Try setting the `method` keyword argument (example: method='nearest').\"\n",
      "Processing sa...\n",
      "No time overlap!\n"
     ]
    },
    {
     "name": "stderr",
     "output_type": "stream",
     "text": [
      "c:\\Users\\frtp\\AppData\\Local\\miniforge3\\envs\\WBOresund\\Lib\\site-packages\\modelskill\\model\\_base.py:70: UserWarning: No time overlap. Observation '3b' outside model time range! \n",
      "  warnings.warn(\n",
      "c:\\Users\\frtp\\AppData\\Local\\miniforge3\\envs\\WBOresund\\Lib\\site-packages\\modelskill\\model\\_base.py:70: UserWarning: No time overlap. Observation 'c2' outside model time range! \n",
      "  warnings.warn(\n",
      "c:\\Users\\frtp\\AppData\\Local\\miniforge3\\envs\\WBOresund\\Lib\\site-packages\\modelskill\\model\\_base.py:70: UserWarning: No time overlap. Observation 'sa' outside model time range! \n",
      "  warnings.warn(\n"
     ]
    }
   ],
   "source": [
    "cmps = []\n",
    "match_t = \"2022\" # You can choose a specific time period here\n",
    "for o in altlist:\n",
    "    print(f\"Processing {o.name}...\")\n",
    "    try:\n",
    "        cmp = ms.match(obs=o.sel(time=match_t), mod=mr) \n",
    "        cmps.append(cmp.remove_bias())\n",
    "    except Exception as e:\n",
    "        print(e)    \n",
    "cc = ms.ComparerCollection(cmps)"
   ]
  },
  {
   "cell_type": "code",
   "execution_count": null,
   "metadata": {},
   "outputs": [
    {
     "data": {
      "text/plain": [
       "<ComparerCollection>\n",
       "Comparers:"
      ]
     },
     "execution_count": 8,
     "metadata": {},
     "output_type": "execute_result"
    }
   ],
   "source": []
  },
  {
   "cell_type": "code",
   "execution_count": 9,
   "metadata": {},
   "outputs": [
    {
     "name": "stdout",
     "output_type": "stream",
     "text": [
      "No data to show\n"
     ]
    }
   ],
   "source": [
    "if len(cc)>0:\n",
    "    cc.skill().round(4)\n",
    "else:\n",
    "    print(\"No data to show\")"
   ]
  },
  {
   "cell_type": "code",
   "execution_count": 10,
   "metadata": {},
   "outputs": [
    {
     "name": "stdout",
     "output_type": "stream",
     "text": [
      "No data to show\n"
     ]
    }
   ],
   "source": [
    "if len(cc)>0:\n",
    "    cc.plot.scatter(skill_table=True, figsize=(5,4));\n",
    "    plt.title(\"MIKE21 vs Altimetry, \"+match_t)\n",
    "    if save_png: plt.savefig(\"../figures/altimetry_comparison.png\", bbox_inches=\"tight\")\n",
    "else:\n",
    "    print(\"No data to show\")\n"
   ]
  },
  {
   "cell_type": "code",
   "execution_count": 11,
   "metadata": {},
   "outputs": [
    {
     "name": "stdout",
     "output_type": "stream",
     "text": [
      "No data to show\n"
     ]
    }
   ],
   "source": [
    "if len(cc)>0:\n",
    "    fig, axs = plt.subplots(-(-len(cc)//2), 2, figsize=(8,len(cc)*2))\n",
    "    axs = axs.flatten()\n",
    "    for i in range(len(cc)):\n",
    "        cc[i].sel().plot.scatter(ax=axs[i])\n",
    "\n",
    "    if len(cc) % 2 != 0:\n",
    "        axs[-1].axis(\"off\")\n",
    "    plt.tight_layout()\n",
    "    plt.show()\n",
    "else:\n",
    "    print(\"No data to show\")\n"
   ]
  },
  {
   "cell_type": "code",
   "execution_count": null,
   "metadata": {},
   "outputs": [],
   "source": []
  }
 ],
 "metadata": {
  "kernelspec": {
   "display_name": "WBOresund",
   "language": "python",
   "name": "python3"
  },
  "language_info": {
   "codemirror_mode": {
    "name": "ipython",
    "version": 3
   },
   "file_extension": ".py",
   "mimetype": "text/x-python",
   "name": "python",
   "nbconvert_exporter": "python",
   "pygments_lexer": "ipython3",
   "version": "3.12.8"
  }
 },
 "nbformat": 4,
 "nbformat_minor": 2
}
