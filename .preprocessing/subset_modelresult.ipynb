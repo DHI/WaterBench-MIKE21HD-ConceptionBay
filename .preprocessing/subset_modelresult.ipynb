{
 "cells": [
  {
   "cell_type": "code",
   "execution_count": null,
   "metadata": {},
   "outputs": [],
   "source": [
    "import mikeio"
   ]
  },
  {
   "cell_type": "code",
   "execution_count": null,
   "metadata": {},
   "outputs": [],
   "source": [
    "mr_fldr = \"../output/\"\n",
    "out_fldr = \"../output_sample/\"\n",
    "files = [\"Area_2014_2018.dfsu\", \"points.dfs0\"]\n",
    "time_slice = slice(\"2017-02-01\",\"2017-02-08 00:00\")"
   ]
  },
  {
   "cell_type": "code",
   "execution_count": null,
   "metadata": {},
   "outputs": [],
   "source": [
    "for fn in files:\n",
    "    print(f\"Processing {fn}\")\n",
    "    ds = mikeio.read(mr_fldr + fn, time=time_slice)\n",
    "    ds.to_dfs(out_fldr + fn)"
   ]
  },
  {
   "cell_type": "code",
   "execution_count": null,
   "metadata": {},
   "outputs": [],
   "source": [
    "import pandas as pd\n",
    "from pathlib import Path"
   ]
  },
  {
   "cell_type": "code",
   "execution_count": null,
   "metadata": {},
   "outputs": [],
   "source": [
    "\n",
    "obs_fldr = \"../observations/\" \n",
    "df_stn = pd.read_csv(obs_fldr + \"stations.csv\", index_col=0)\n",
    "\n",
    "def read_and_concatenate_ds(in_fnames,out_fname=\"../output/Area_all.dfsu\"):\n",
    "    \n",
    "    if Path(out_fname).exists():\n",
    "        return mikeio.read(out_fname) \n",
    "    else:\n",
    "        mikeio.generic.concat(in_fnames, out_fname, keep=\"first\")\n",
    "        return mikeio.read(out_fname)\n"
   ]
  },
  {
   "cell_type": "markdown",
   "metadata": {},
   "source": [
    "## Create points.dfs0"
   ]
  },
  {
   "cell_type": "code",
   "execution_count": null,
   "metadata": {},
   "outputs": [],
   "source": [
    "ds = read_and_concatenate_ds([f\"{mr_fldr}Area_2014_2018.dfsu\", f\"{mr_fldr}Area_2019_2022.dfsu\"])"
   ]
  },
  {
   "cell_type": "code",
   "execution_count": null,
   "metadata": {},
   "outputs": [],
   "source": [
    "point = ds.sel(x=df_stn[\"Longitude\"], y=df_stn[\"Latitude\"])"
   ]
  },
  {
   "cell_type": "code",
   "execution_count": null,
   "metadata": {},
   "outputs": [],
   "source": [
    "point[0].name = \"Holyrood Bay: Surface elevation\"\n",
    "point[1].name = \"Holyrood Bay: U velocity\"\n",
    "point[2].name = \"Holyrood Bay: V velocity\""
   ]
  },
  {
   "cell_type": "code",
   "execution_count": null,
   "metadata": {},
   "outputs": [],
   "source": [
    "point.to_dfs(\"../output/points.dfs0\")"
   ]
  },
  {
   "cell_type": "code",
   "execution_count": null,
   "metadata": {},
   "outputs": [],
   "source": []
  }
 ],
 "metadata": {
  "kernelspec": {
   "display_name": "FMROM",
   "language": "python",
   "name": "python3"
  },
  "language_info": {
   "codemirror_mode": {
    "name": "ipython",
    "version": 3
   },
   "file_extension": ".py",
   "mimetype": "text/x-python",
   "name": "python",
   "nbconvert_exporter": "python",
   "pygments_lexer": "ipython3",
   "version": "3.11.8"
  }
 },
 "nbformat": 4,
 "nbformat_minor": 2
}
