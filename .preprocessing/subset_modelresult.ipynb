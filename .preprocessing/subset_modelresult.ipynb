{
 "cells": [
  {
   "cell_type": "code",
   "execution_count": null,
   "metadata": {},
   "outputs": [],
   "source": [
    "import mikeio"
   ]
  },
  {
   "cell_type": "code",
   "execution_count": null,
   "metadata": {},
   "outputs": [],
   "source": [
    "mr_fldr = \"../output/\"\n",
    "out_fldr = \"../output_sample/\"\n",
    "files = [\"Area_2014_2018.dfsu\", \"points.dfs0\"]\n",
    "time_slice = slice(\"2017-02-01\",\"2017-02-08 00:00\")"
   ]
  },
  {
   "cell_type": "code",
   "execution_count": null,
   "metadata": {},
   "outputs": [],
   "source": [
    "for fn in files:\n",
    "    print(f\"Processing {fn}\")\n",
    "    ds = mikeio.read(mr_fldr + fn, time=time_slice)\n",
    "    ds.to_dfs(out_fldr + fn)"
   ]
  },
  {
   "cell_type": "code",
   "execution_count": null,
   "metadata": {},
   "outputs": [],
   "source": [
    "import pandas as pd\n",
    "from pathlib import Path"
   ]
  },
  {
   "cell_type": "code",
   "execution_count": null,
   "metadata": {},
   "outputs": [],
   "source": [
    "\n",
    "obs_fldr = \"../observations/\" \n",
    "df_stn = pd.read_csv(obs_fldr + \"stations.csv\", index_col=0)\n",
    "\n",
    "def read_and_concatenate_ds(in_fnames,out_fname=\"../output/Area_all.dfsu\"):\n",
    "    \n",
    "    if Path(out_fname).exists():\n",
    "        return mikeio.read(out_fname) \n",
    "    else:\n",
    "        mikeio.generic.concat(in_fnames, out_fname, keep=\"first\")\n",
    "        return mikeio.read(out_fname)\n"
   ]
  },
  {
   "cell_type": "markdown",
   "metadata": {},
   "source": [
    "## Create points.dfs0"
   ]
  },
  {
   "cell_type": "code",
   "execution_count": null,
   "metadata": {},
   "outputs": [],
   "source": [
    "ds = read_and_concatenate_ds([f\"{mr_fldr}Area_2014_2018.dfsu\", f\"{mr_fldr}Area_2019_2022.dfsu\"])"
   ]
  },
  {
   "cell_type": "code",
   "execution_count": 30,
   "metadata": {},
   "outputs": [
    {
     "ename": "AttributeError",
     "evalue": "'GeometryUndefined' object has no attribute 'find_index'",
     "output_type": "error",
     "traceback": [
      "\u001b[1;31m---------------------------------------------------------------------------\u001b[0m",
      "\u001b[1;31mAttributeError\u001b[0m                            Traceback (most recent call last)",
      "Cell \u001b[1;32mIn[30], line 1\u001b[0m\n\u001b[1;32m----> 1\u001b[0m point \u001b[38;5;241m=\u001b[39m \u001b[43mds\u001b[49m\u001b[38;5;241;43m.\u001b[39;49m\u001b[43msel\u001b[49m\u001b[43m(\u001b[49m\u001b[43mx\u001b[49m\u001b[38;5;241;43m=\u001b[39;49m\u001b[43mdf_stn\u001b[49m\u001b[43m[\u001b[49m\u001b[38;5;124;43m\"\u001b[39;49m\u001b[38;5;124;43mLongitude\u001b[39;49m\u001b[38;5;124;43m\"\u001b[39;49m\u001b[43m]\u001b[49m\u001b[43m,\u001b[49m\u001b[43m \u001b[49m\u001b[43my\u001b[49m\u001b[38;5;241;43m=\u001b[39;49m\u001b[43mdf_stn\u001b[49m\u001b[43m[\u001b[49m\u001b[38;5;124;43m\"\u001b[39;49m\u001b[38;5;124;43mLatitude\u001b[39;49m\u001b[38;5;124;43m\"\u001b[39;49m\u001b[43m]\u001b[49m\u001b[43m)\u001b[49m\n",
      "File \u001b[1;32mc:\\Users\\frtp\\AppData\\Local\\miniforge3\\envs\\FMROM\\Lib\\site-packages\\mikeio\\dataset\\_dataset.py:877\u001b[0m, in \u001b[0;36mDataset.sel\u001b[1;34m(self, **kwargs)\u001b[0m\n\u001b[0;32m    814\u001b[0m \u001b[38;5;28;01mdef\u001b[39;00m \u001b[38;5;21msel\u001b[39m(\n\u001b[0;32m    815\u001b[0m     \u001b[38;5;28mself\u001b[39m,\n\u001b[0;32m    816\u001b[0m     \u001b[38;5;241m*\u001b[39m\u001b[38;5;241m*\u001b[39mkwargs: Any,\n\u001b[0;32m    817\u001b[0m ) \u001b[38;5;241m-\u001b[39m\u001b[38;5;241m>\u001b[39m \u001b[38;5;124m\"\u001b[39m\u001b[38;5;124mDataset\u001b[39m\u001b[38;5;124m\"\u001b[39m:\n\u001b[0;32m    818\u001b[0m \u001b[38;5;250m    \u001b[39m\u001b[38;5;124;03m\"\"\"Return a new Dataset whose data is given by\u001b[39;00m\n\u001b[0;32m    819\u001b[0m \u001b[38;5;124;03m    selecting index labels along the specified dimension(s).\u001b[39;00m\n\u001b[0;32m    820\u001b[0m \n\u001b[1;32m   (...)\u001b[0m\n\u001b[0;32m    875\u001b[0m \u001b[38;5;124;03m    >>> ds.sel(layers=\"bottom\")\u001b[39;00m\n\u001b[0;32m    876\u001b[0m \u001b[38;5;124;03m    \"\"\"\u001b[39;00m\n\u001b[1;32m--> 877\u001b[0m     res \u001b[38;5;241m=\u001b[39m \u001b[43m[\u001b[49m\u001b[43mda\u001b[49m\u001b[38;5;241;43m.\u001b[39;49m\u001b[43msel\u001b[49m\u001b[43m(\u001b[49m\u001b[38;5;241;43m*\u001b[39;49m\u001b[38;5;241;43m*\u001b[39;49m\u001b[43mkwargs\u001b[49m\u001b[43m)\u001b[49m\u001b[43m \u001b[49m\u001b[38;5;28;43;01mfor\u001b[39;49;00m\u001b[43m \u001b[49m\u001b[43mda\u001b[49m\u001b[43m \u001b[49m\u001b[38;5;129;43;01min\u001b[39;49;00m\u001b[43m \u001b[49m\u001b[38;5;28;43mself\u001b[39;49m\u001b[43m]\u001b[49m\n\u001b[0;32m    878\u001b[0m     \u001b[38;5;28;01mreturn\u001b[39;00m Dataset(data\u001b[38;5;241m=\u001b[39mres, validate\u001b[38;5;241m=\u001b[39m\u001b[38;5;28;01mFalse\u001b[39;00m)\n",
      "File \u001b[1;32mc:\\Users\\frtp\\AppData\\Local\\miniforge3\\envs\\FMROM\\Lib\\site-packages\\mikeio\\dataset\\_dataset.py:877\u001b[0m, in \u001b[0;36m<listcomp>\u001b[1;34m(.0)\u001b[0m\n\u001b[0;32m    814\u001b[0m \u001b[38;5;28;01mdef\u001b[39;00m \u001b[38;5;21msel\u001b[39m(\n\u001b[0;32m    815\u001b[0m     \u001b[38;5;28mself\u001b[39m,\n\u001b[0;32m    816\u001b[0m     \u001b[38;5;241m*\u001b[39m\u001b[38;5;241m*\u001b[39mkwargs: Any,\n\u001b[0;32m    817\u001b[0m ) \u001b[38;5;241m-\u001b[39m\u001b[38;5;241m>\u001b[39m \u001b[38;5;124m\"\u001b[39m\u001b[38;5;124mDataset\u001b[39m\u001b[38;5;124m\"\u001b[39m:\n\u001b[0;32m    818\u001b[0m \u001b[38;5;250m    \u001b[39m\u001b[38;5;124;03m\"\"\"Return a new Dataset whose data is given by\u001b[39;00m\n\u001b[0;32m    819\u001b[0m \u001b[38;5;124;03m    selecting index labels along the specified dimension(s).\u001b[39;00m\n\u001b[0;32m    820\u001b[0m \n\u001b[1;32m   (...)\u001b[0m\n\u001b[0;32m    875\u001b[0m \u001b[38;5;124;03m    >>> ds.sel(layers=\"bottom\")\u001b[39;00m\n\u001b[0;32m    876\u001b[0m \u001b[38;5;124;03m    \"\"\"\u001b[39;00m\n\u001b[1;32m--> 877\u001b[0m     res \u001b[38;5;241m=\u001b[39m [\u001b[43mda\u001b[49m\u001b[38;5;241;43m.\u001b[39;49m\u001b[43msel\u001b[49m\u001b[43m(\u001b[49m\u001b[38;5;241;43m*\u001b[39;49m\u001b[38;5;241;43m*\u001b[39;49m\u001b[43mkwargs\u001b[49m\u001b[43m)\u001b[49m \u001b[38;5;28;01mfor\u001b[39;00m da \u001b[38;5;129;01min\u001b[39;00m \u001b[38;5;28mself\u001b[39m]\n\u001b[0;32m    878\u001b[0m     \u001b[38;5;28;01mreturn\u001b[39;00m Dataset(data\u001b[38;5;241m=\u001b[39mres, validate\u001b[38;5;241m=\u001b[39m\u001b[38;5;28;01mFalse\u001b[39;00m)\n",
      "File \u001b[1;32mc:\\Users\\frtp\\AppData\\Local\\miniforge3\\envs\\FMROM\\Lib\\site-packages\\mikeio\\dataset\\_dataarray.py:907\u001b[0m, in \u001b[0;36mDataArray.sel\u001b[1;34m(self, time, **kwargs)\u001b[0m\n\u001b[0;32m    905\u001b[0m \u001b[38;5;66;03m# select in space\u001b[39;00m\n\u001b[0;32m    906\u001b[0m \u001b[38;5;28;01mif\u001b[39;00m \u001b[38;5;28mlen\u001b[39m(kwargs) \u001b[38;5;241m>\u001b[39m \u001b[38;5;241m0\u001b[39m:\n\u001b[1;32m--> 907\u001b[0m     idx \u001b[38;5;241m=\u001b[39m \u001b[38;5;28;43mself\u001b[39;49m\u001b[38;5;241;43m.\u001b[39;49m\u001b[43mgeometry\u001b[49m\u001b[38;5;241;43m.\u001b[39;49m\u001b[43mfind_index\u001b[49m(\u001b[38;5;241m*\u001b[39m\u001b[38;5;241m*\u001b[39mkwargs)\n\u001b[0;32m    908\u001b[0m     \u001b[38;5;28;01mif\u001b[39;00m \u001b[38;5;28misinstance\u001b[39m(idx, \u001b[38;5;28mtuple\u001b[39m):\n\u001b[0;32m    909\u001b[0m         \u001b[38;5;66;03m# TODO: support for dfs3\u001b[39;00m\n\u001b[0;32m    910\u001b[0m         \u001b[38;5;28;01massert\u001b[39;00m \u001b[38;5;28mlen\u001b[39m(idx) \u001b[38;5;241m==\u001b[39m \u001b[38;5;241m2\u001b[39m\n",
      "\u001b[1;31mAttributeError\u001b[0m: 'GeometryUndefined' object has no attribute 'find_index'"
     ]
    }
   ],
   "source": [
    "point = ds.sel(x=df_stn[\"Longitude\"], y=df_stn[\"Latitude\"])"
   ]
  },
  {
   "cell_type": "code",
   "execution_count": null,
   "metadata": {},
   "outputs": [],
   "source": [
    "point[0].name = \"Holyrood Bay: Surface elevation\"\n",
    "point[1].name = \"Holyrood Bay: U velocity\"\n",
    "point[2].name = \"Holyrood Bay: V velocity\""
   ]
  },
  {
   "cell_type": "code",
   "execution_count": null,
   "metadata": {},
   "outputs": [],
   "source": [
    "point.to_dfs(\"../output/points.dfs0\")"
   ]
  },
  {
   "cell_type": "code",
   "execution_count": null,
   "metadata": {},
   "outputs": [],
   "source": []
  }
 ],
 "metadata": {
  "kernelspec": {
   "display_name": "FMROM",
   "language": "python",
   "name": "python3"
  },
  "language_info": {
   "codemirror_mode": {
    "name": "ipython",
    "version": 3
   },
   "file_extension": ".py",
   "mimetype": "text/x-python",
   "name": "python",
   "nbconvert_exporter": "python",
   "pygments_lexer": "ipython3",
   "version": "3.11.8"
  }
 },
 "nbformat": 4,
 "nbformat_minor": 2
}
