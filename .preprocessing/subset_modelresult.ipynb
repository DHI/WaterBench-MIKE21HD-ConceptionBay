{
 "cells": [
  {
   "cell_type": "code",
   "execution_count": 1,
   "metadata": {},
   "outputs": [],
   "source": [
    "import mikeio"
   ]
  },
  {
   "cell_type": "code",
   "execution_count": 2,
   "metadata": {},
   "outputs": [],
   "source": [
    "mr_fldr = \"../output/\"\n",
    "out_fldr = \"../output_sample/\"\n",
    "files = [\"Area_2019_2022.dfsu\", \"points.dfs0\"]\n",
    "time_slice = slice(\"2022-12-01\",\"2022-12-08 00:00\")"
   ]
  },
  {
   "cell_type": "code",
   "execution_count": 3,
   "metadata": {},
   "outputs": [
    {
     "name": "stdout",
     "output_type": "stream",
     "text": [
      "Processing Area_2019_2022.dfsu\n",
      "Processing points.dfs0\n"
     ]
    }
   ],
   "source": [
    "for fn in files:\n",
    "    print(f\"Processing {fn}\")\n",
    "    ds = mikeio.read(mr_fldr + fn, time=time_slice)\n",
    "    ds.to_dfs(out_fldr + fn)"
   ]
  },
  {
   "cell_type": "code",
   "execution_count": null,
   "metadata": {},
   "outputs": [],
   "source": []
  }
 ],
 "metadata": {
  "kernelspec": {
   "display_name": "FMROM",
   "language": "python",
   "name": "python3"
  },
  "language_info": {
   "codemirror_mode": {
    "name": "ipython",
    "version": 3
   },
   "file_extension": ".py",
   "mimetype": "text/x-python",
   "name": "python",
   "nbconvert_exporter": "python",
   "pygments_lexer": "ipython3",
   "version": "3.11.8"
  }
 },
 "nbformat": 4,
 "nbformat_minor": 2
}
